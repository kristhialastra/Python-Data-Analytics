{
 "cells": [
  {
   "cell_type": "markdown",
   "metadata": {
    "deletable": false,
    "editable": false,
    "nbgrader": {
     "cell_type": "markdown",
     "checksum": "c2569ea26ba393008475661f700884bf",
     "grade": false,
     "grade_id": "cell-c0099d509715f27c",
     "locked": true,
     "schema_version": 3,
     "solution": false,
     "task": false
    }
   },
   "source": [
    "# Activity: Using Lists & Tuples\n",
    "\n",
    "## Introduction\n",
    "\n",
    "In this activity you will practice using and creating lists and tuples.\n",
    "This activity contains the following topics:\n",
    "- Creating lists\n",
    "- Creating tuples\n",
    "- Indexing\n",
    "- Slicing\n",
    "- List methods\n",
    "- Unpacking\n"
   ]
  },
  {
   "cell_type": "markdown",
   "metadata": {
    "deletable": false,
    "editable": false,
    "nbgrader": {
     "cell_type": "markdown",
     "checksum": "ddd43e7378af5c0657e07f0438bb11ea",
     "grade": false,
     "grade_id": "cell-41609a9213935d70",
     "locked": true,
     "schema_version": 3,
     "solution": false,
     "task": false
    }
   },
   "source": [
    "#### Question 1\n",
    "\n",
    "Create a list called `countries` with the names of 5 different countries of your choice.\n"
   ]
  },
  {
   "cell_type": "code",
   "execution_count": 63,
   "metadata": {
    "deletable": false,
    "nbgrader": {
     "cell_type": "code",
     "checksum": "32b8ee72db6c0b0516dea3cb74d255cd",
     "grade": false,
     "grade_id": "cell-0614fe54fc242fa2",
     "locked": false,
     "schema_version": 3,
     "solution": true,
     "task": false
    }
   },
   "outputs": [],
   "source": [
    "# Your code here\n",
    "countries = ['philippines', 'thailand', 'indonesia', 'malaysia', 'singapore']"
   ]
  },
  {
   "cell_type": "code",
   "execution_count": null,
   "metadata": {
    "deletable": false,
    "editable": false,
    "nbgrader": {
     "cell_type": "code",
     "checksum": "1c37e87ec61267f0efd06b536ae58536",
     "grade": true,
     "grade_id": "cell-3a329dfd53eab709",
     "locked": true,
     "points": 1,
     "schema_version": 3,
     "solution": false,
     "task": false
    }
   },
   "outputs": [],
   "source": [
    "# Question 1 Grading Checks\n",
    "\n",
    "assert isinstance(countries, list), 'Your variable is not a list'\n"
   ]
  },
  {
   "cell_type": "markdown",
   "metadata": {
    "deletable": false,
    "editable": false,
    "nbgrader": {
     "cell_type": "markdown",
     "checksum": "5b9d81d7e9e83ee919a6a21bdfbce21a",
     "grade": false,
     "grade_id": "cell-406772a126ee1a1e",
     "locked": true,
     "schema_version": 3,
     "solution": false,
     "task": false
    }
   },
   "source": [
    "#### Question 2\n",
    "\n",
    "Using the `countries` list, assign the first and last countries in the list to the variables `first_country` and `last_country` respectively.\n"
   ]
  },
  {
   "cell_type": "code",
   "execution_count": 66,
   "metadata": {
    "deletable": false,
    "nbgrader": {
     "cell_type": "code",
     "checksum": "2f664503e22fe264ed7cae6d6b583e6f",
     "grade": false,
     "grade_id": "cell-2d238064c27e485b",
     "locked": false,
     "schema_version": 3,
     "solution": true,
     "task": false
    }
   },
   "outputs": [
    {
     "name": "stdout",
     "output_type": "stream",
     "text": [
      "philippines\n",
      "singapore\n"
     ]
    }
   ],
   "source": [
    "# Your code here\n",
    "countries = ['philippines', 'thailand', 'indonesia', 'malaysia', 'singapore']\n",
    "first_country = 'philippines'\n",
    "last_country = 'singapore'\n",
    "print(first_country)\n",
    "print(last_country)"
   ]
  },
  {
   "cell_type": "code",
   "execution_count": null,
   "metadata": {
    "deletable": false,
    "editable": false,
    "nbgrader": {
     "cell_type": "code",
     "checksum": "074ab9755256449fb226e732c57ebc8d",
     "grade": true,
     "grade_id": "cell-10e571d348bfb921",
     "locked": true,
     "points": 1,
     "schema_version": 3,
     "solution": false,
     "task": false
    }
   },
   "outputs": [],
   "source": [
    "# Question 2 Grading Checks\n",
    "\n",
    "assert len(countries) == 5, 'Your list does not have 5 elements'\n",
    "assert isinstance(first_country, str), 'Your variable is not a string'\n",
    "assert isinstance(last_country, str), 'Your variable is not a string'\n"
   ]
  },
  {
   "cell_type": "markdown",
   "metadata": {
    "deletable": false,
    "editable": false,
    "nbgrader": {
     "cell_type": "markdown",
     "checksum": "cfbeb641c0087443ddd63456d0ca3495",
     "grade": false,
     "grade_id": "cell-6e574b704e930887",
     "locked": true,
     "schema_version": 3,
     "solution": false,
     "task": false
    }
   },
   "source": [
    "#### Question 3\n",
    "\n",
    "Using the `countries` list, add a country to the end of the list.\n",
    "Then assign the last 3 countries to a variable called `last_three_countries`.\n"
   ]
  },
  {
   "cell_type": "code",
   "execution_count": 71,
   "metadata": {
    "deletable": false,
    "nbgrader": {
     "cell_type": "code",
     "checksum": "8199e569d663bdc0c2ab01365a4dd069",
     "grade": false,
     "grade_id": "cell-09f04a4add4b7637",
     "locked": false,
     "schema_version": 3,
     "solution": true,
     "task": false
    }
   },
   "outputs": [
    {
     "name": "stdout",
     "output_type": "stream",
     "text": [
      "['malaysia', 'singapore', 'vietnam']\n"
     ]
    },
    {
     "data": {
      "text/plain": [
       "3"
      ]
     },
     "execution_count": 71,
     "metadata": {},
     "output_type": "execute_result"
    }
   ],
   "source": [
    "# Your code here\n",
    "countries = ['philippines', 'thailand', 'indonesia', 'malaysia', 'singapore']\n",
    "countries.append('vietnam')\n",
    "last_three_countries = ['malaysia', 'singapore', 'vietnam']\n",
    "print(last_three_countries)\n",
    "len(last_three_countries)\n",
    "\n",
    "\n"
   ]
  },
  {
   "cell_type": "code",
   "execution_count": null,
   "metadata": {
    "deletable": false,
    "editable": false,
    "nbgrader": {
     "cell_type": "code",
     "checksum": "a118e8ca6adc88989dcee6e0b6063618",
     "grade": true,
     "grade_id": "cell-2067ef95fa07586c",
     "locked": true,
     "points": 1,
     "schema_version": 3,
     "solution": false,
     "task": false
    }
   },
   "outputs": [],
   "source": [
    "# Question 3 Grading Checks\n",
    "\n",
    "assert len(countries) == 6, 'Your list does not have 6 elements (one more element on the end)'\n",
    "assert isinstance(last_three_countries, list), 'Your variable is not a list'\n",
    "assert len(last_three_countries) == 3, 'Your list does not have 3 elements'\n"
   ]
  },
  {
   "cell_type": "markdown",
   "metadata": {
    "deletable": false,
    "editable": false,
    "nbgrader": {
     "cell_type": "markdown",
     "checksum": "205279332ee997b2feb5ed7004a3bb73",
     "grade": false,
     "grade_id": "cell-3d2fbf3842b6650a",
     "locked": true,
     "schema_version": 3,
     "solution": false,
     "task": false
    }
   },
   "source": [
    "#### Question 4\n",
    "\n",
    "Using the `countries` list, assign the **even** indexed countries to a variable called `even_countries`. Remember the **first index is 0** (an even number).\n",
    "\n",
    "This means if your list was something like:\n",
    "```python\n",
    "countries = [\n",
    "    'Lilliput',\n",
    "    'Gilead',\n",
    "    'Oceania',\n",
    "    'Wakanda',\n",
    "    'Genovia',\n",
    "    'Panem',\n",
    "]\n",
    "```\n",
    "Then `even_countries` will be:\n",
    "```python\n",
    "[\n",
    "    'Lilliput',\n",
    "    'Oceania',\n",
    "    'Genovia',\n",
    "]\n",
    "```\n"
   ]
  },
  {
   "cell_type": "code",
   "execution_count": 72,
   "metadata": {
    "deletable": false,
    "nbgrader": {
     "cell_type": "code",
     "checksum": "4799ddc0fc93a4ebaceb89915b63d5f2",
     "grade": false,
     "grade_id": "cell-4a5264eeab7a9c33",
     "locked": false,
     "schema_version": 3,
     "solution": true,
     "task": false
    }
   },
   "outputs": [
    {
     "name": "stdout",
     "output_type": "stream",
     "text": [
      "['philippines', 'indonesia', 'singapore']\n"
     ]
    },
    {
     "data": {
      "text/plain": [
       "3"
      ]
     },
     "execution_count": 72,
     "metadata": {},
     "output_type": "execute_result"
    }
   ],
   "source": [
    "# Your code here\n",
    "countries = ['philippines', 'thailand', 'indonesia', 'malaysia', 'singapore']\n",
    "countries.append('vietnam')\n",
    "even_countries = ['philippines', 'indonesia', 'singapore']\n",
    "print(even_countries)\n",
    "len(even_countries)\n",
    "\n",
    "\n",
    "\n",
    "\n",
    "\n",
    "\n"
   ]
  },
  {
   "cell_type": "code",
   "execution_count": null,
   "metadata": {
    "deletable": false,
    "editable": false,
    "nbgrader": {
     "cell_type": "code",
     "checksum": "5ce18447c99ac85aae65d32d38648aa7",
     "grade": true,
     "grade_id": "cell-e753d72d2a6b5400",
     "locked": true,
     "points": 1,
     "schema_version": 3,
     "solution": false,
     "task": false
    }
   },
   "outputs": [],
   "source": [
    "# Question 4 Grading Checks\n",
    "\n",
    "assert isinstance(even_countries, list), 'Your variable is not a list'\n"
   ]
  },
  {
   "cell_type": "markdown",
   "metadata": {
    "deletable": false,
    "editable": false,
    "nbgrader": {
     "cell_type": "markdown",
     "checksum": "20907a3f4fed9899bf42aaa82f5eca30",
     "grade": false,
     "grade_id": "cell-b7dc4dc2889534ea",
     "locked": true,
     "schema_version": 3,
     "solution": false,
     "task": false
    }
   },
   "source": [
    "#### Question 5\n",
    "\n",
    "Add another country to the `countries` list and assign the length of the list to a variable called `num_countries`.\n"
   ]
  },
  {
   "cell_type": "code",
   "execution_count": 77,
   "metadata": {
    "deletable": false,
    "nbgrader": {
     "cell_type": "code",
     "checksum": "31a4323f39ff10aa2434893b9a41de15",
     "grade": false,
     "grade_id": "cell-8162b18aba873a5b",
     "locked": false,
     "schema_version": 3,
     "solution": true,
     "task": false
    }
   },
   "outputs": [
    {
     "name": "stdout",
     "output_type": "stream",
     "text": [
      "7\n"
     ]
    }
   ],
   "source": [
    "# Your code here\n",
    "countries = ['philippines', 'thailand', 'indonesia', 'malaysia', 'singapore']\n",
    "countries.append('vietnam')\n",
    "countries.append('cambodia')\n",
    "num_countries = len(countries) \n",
    "print(num_countries)\n",
    "\n",
    "\n",
    "\n",
    "\n"
   ]
  },
  {
   "cell_type": "code",
   "execution_count": null,
   "metadata": {
    "deletable": false,
    "editable": false,
    "nbgrader": {
     "cell_type": "code",
     "checksum": "a4a3cb6e5826c523e5181dfc7b3e89f2",
     "grade": true,
     "grade_id": "cell-5d6cf2f545b99477",
     "locked": true,
     "points": 1,
     "schema_version": 3,
     "solution": false,
     "task": false
    }
   },
   "outputs": [],
   "source": [
    "# Question 5 Grading Checks\n",
    "\n",
    "assert isinstance(num_countries, int), 'Your variable is not an integer'\n",
    "assert num_countries > 6, 'Check the number of countries; you should have only added 2 more countries after the initial 5'\n"
   ]
  },
  {
   "cell_type": "markdown",
   "metadata": {
    "deletable": false,
    "editable": false,
    "nbgrader": {
     "cell_type": "markdown",
     "checksum": "d356a197ed6cfea3f85f7f7d20a2149a",
     "grade": false,
     "grade_id": "cell-5701f5517ccf235d",
     "locked": true,
     "schema_version": 3,
     "solution": false,
     "task": false
    }
   },
   "source": [
    "#### Question 6\n",
    "\n",
    "You're given a tuple containing superheroes, unpack the tuple into variables `superman`, `batman`, and `black_panther`\n",
    " (in the expected order)."
   ]
  },
  {
   "cell_type": "code",
   "execution_count": null,
   "metadata": {
    "deletable": false,
    "editable": false,
    "nbgrader": {
     "cell_type": "code",
     "checksum": "dd8705f47e3cdcbde7568eb757bc9336",
     "grade": false,
     "grade_id": "cell-e17f2dfa74cd2511",
     "locked": true,
     "schema_version": 3,
     "solution": false,
     "task": false
    }
   },
   "outputs": [],
   "source": [
    "# Given tuple\n",
    "\n",
    "superheroes = ('Superman', 'Batman', 'Black Panther')"
   ]
  },
  {
   "cell_type": "code",
   "execution_count": 55,
   "metadata": {
    "deletable": false,
    "nbgrader": {
     "cell_type": "code",
     "checksum": "cdb900732f08d630cea1d65b24d13357",
     "grade": false,
     "grade_id": "cell-a6d6bddc63d43806",
     "locked": false,
     "schema_version": 3,
     "solution": true,
     "task": false
    }
   },
   "outputs": [
    {
     "name": "stdout",
     "output_type": "stream",
     "text": [
      "Superman\n",
      "Batman\n",
      "Black Panther\n"
     ]
    }
   ],
   "source": [
    "# Your code here\n",
    "superheroes = ('Superman', 'Batman', 'Black Panther')\n",
    "superman, batman, black_panther = superheroes\n",
    "print(superman)\n",
    "print(batman)\n",
    "print(black_panther)\n"
   ]
  },
  {
   "cell_type": "code",
   "execution_count": null,
   "metadata": {
    "deletable": false,
    "editable": false,
    "nbgrader": {
     "cell_type": "code",
     "checksum": "dffda8a7609c85117a09111638992c1f",
     "grade": true,
     "grade_id": "cell-adfc0a04f765e223",
     "locked": true,
     "points": 1,
     "schema_version": 3,
     "solution": false,
     "task": false
    }
   },
   "outputs": [],
   "source": [
    "# Question 6 Grading Checks\n",
    "\n",
    "assert isinstance(superman, str), 'The superman variable is not a string'\n",
    "assert isinstance(batman, str), 'The batman variable is not a string'\n",
    "assert isinstance(black_panther, str), 'The black_panther variable is not a string'\n"
   ]
  },
  {
   "cell_type": "markdown",
   "metadata": {
    "deletable": false,
    "editable": false,
    "nbgrader": {
     "cell_type": "markdown",
     "checksum": "f9a3982c51718ee09764a1598c3acf30",
     "grade": false,
     "grade_id": "cell-00372ea27c72bbdb",
     "locked": true,
     "schema_version": 3,
     "solution": false,
     "task": false
    }
   },
   "source": [
    "#### Question 7\n",
    "\n",
    "Create a list of **5 tuples** called `planet_info` where each tuple contains a planet name, the planet's color, and the planet's number of moons.\n",
    "\n",
    "\n",
    "For example, your list might look something like this:\n",
    "```python\n",
    "planet_info = [\n",
    "    ('Coruscant', 'orange', 4),\n",
    "    ...\n",
    "    ('Krypton', 'green', 3),\n",
    "]\n",
    "```"
   ]
  },
  {
   "cell_type": "code",
   "execution_count": 57,
   "metadata": {
    "deletable": false,
    "nbgrader": {
     "cell_type": "code",
     "checksum": "f133c3360c54934caa6cbbef9b91d6d2",
     "grade": false,
     "grade_id": "cell-5275e17599ccffcf",
     "locked": false,
     "schema_version": 3,
     "solution": true,
     "task": false
    }
   },
   "outputs": [
    {
     "data": {
      "text/plain": [
       "[('Coruscant', 'orange', 4),\n",
       " ('Coco', 'white', 5),\n",
       " ('Kiki', 'blue', 0),\n",
       " ('Hatdog', 'red', 3),\n",
       " ('Krypton', 'green', 3)]"
      ]
     },
     "execution_count": 57,
     "metadata": {},
     "output_type": "execute_result"
    }
   ],
   "source": [
    "# Your code here\n",
    "planet_info = [\n",
    "    ('Coruscant', 'orange', 4),\n",
    "    ('Coco', 'white', 5),\n",
    "    ('Kiki', 'blue', 0),\n",
    "    ('Hatdog', 'red', 3),\n",
    "    ('Krypton', 'green', 3),\n",
    "]\n",
    "planet_info\n",
    "\n"
   ]
  },
  {
   "cell_type": "code",
   "execution_count": null,
   "metadata": {
    "deletable": false,
    "editable": false,
    "nbgrader": {
     "cell_type": "code",
     "checksum": "e965b2e8e23c196b87a4e2dba563e5de",
     "grade": true,
     "grade_id": "cell-ac994f5244998529",
     "locked": true,
     "points": 1,
     "schema_version": 3,
     "solution": false,
     "task": false
    }
   },
   "outputs": [],
   "source": [
    "# Question 7 Grading Checks\n",
    "\n",
    "assert isinstance(planet_info, list), 'Your variable is not a list'\n",
    "assert isinstance(planet_info[0], tuple), 'Your first item is not a tuple'\n",
    "assert len(planet_info[0]) == 3, 'Your first tuple does not have 3 elements'\n",
    "assert len(planet_info) == 5, 'Your list does not have 5 elements'\n"
   ]
  }
 ],
 "metadata": {
  "kernelspec": {
   "display_name": "Python 3",
   "language": "python",
   "name": "python3"
  },
  "language_info": {
   "codemirror_mode": {
    "name": "ipython",
    "version": 3
   },
   "file_extension": ".py",
   "mimetype": "text/x-python",
   "name": "python",
   "nbconvert_exporter": "python",
   "pygments_lexer": "ipython3",
   "version": "3.7.6"
  }
 },
 "nbformat": 4,
 "nbformat_minor": 1
}
